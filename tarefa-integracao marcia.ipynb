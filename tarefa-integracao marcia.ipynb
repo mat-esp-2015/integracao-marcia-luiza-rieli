{
 "cells": [
  {
   "cell_type": "markdown",
   "metadata": {},
   "source": [
    "**Course website**: http://www.leouieda.com/matematica-especial\n",
    "\n",
    "**Note**: This notebook is part of the course \"Matemática Especial I\" of the [Universidade do Estado do Rio de Janeiro](http://www.uerj.br/). All content can be freely used and adapted under the terms of the \n",
    "[Creative Commons Attribution 4.0 International License](http://creativecommons.org/licenses/by/4.0/).\n",
    "\n",
    "![Creative Commons License](https://i.creativecommons.org/l/by/4.0/88x31.png)"
   ]
  },
  {
   "cell_type": "markdown",
   "metadata": {},
   "source": [
    "# Integração Numérica"
   ]
  },
  {
   "cell_type": "markdown",
   "metadata": {},
   "source": [
    "## Imports\n",
    "\n",
    "Coloque **todos** os `import` na célula abaixo. Não se esqueça do `%matplotlib inline` para que os gráficos apareçam no notebook."
   ]
  },
  {
   "cell_type": "code",
   "execution_count": 4,
   "metadata": {
    "collapsed": false
   },
   "outputs": [],
   "source": [
    "# Dessa vez vamos precisar da biblioteca matemática \"math\"\n",
    "# Ela define funções como sin, cos, tan, exp e constantes como pi\n",
    "import math\n",
    "%matplotlib inline\n",
    "import matplotlib.pyplot as plt"
   ]
  },
  {
   "cell_type": "markdown",
   "metadata": {},
   "source": [
    "## Regra dos retângulos\n",
    "\n",
    "O jeito mais simples de integração numérica é a regra dos retângulos. Nela, aproximamos a integral pela soma das áreas de retângulos. Cada retângulo se encontra abaixo de um dos pontos dos dados. A largura do retângulo é o espaçamento entre os dados $\\Delta$. A altura do retângulo é o valor do dado naquela posição $d_i$.\n",
    "\n",
    "Se tivermos nossos dados em um vetor de dados $\\bar{d}$ (**nota**: vetores serão representados com uma barra em cima):\n",
    "\n",
    "$$\n",
    "\\bar{d} = \\left[ d_1 ~ d_2 ~ d_3 ~ \\ldots ~ d_N \\right],\n",
    "$$\n",
    "\n",
    "a integral poderá ser aproximada pela soma das áreas dos retângulos:\n",
    "\n",
    "$$\n",
    "A = \\sum\\limits_{i=1}^{N} \\Delta d_i\n",
    "$$"
   ]
  },
  {
   "cell_type": "markdown",
   "metadata": {},
   "source": [
    "### Algoritmo\n",
    "\n",
    "Utilize a célula vazia abaixo (tipo Markdown) para colocar uma descrição do algoritmo em português (não em código). Não se esqueça de relacionar os passos do algoritmo com as fórmulas matemáticas do método.\n",
    "\n",
    "**Dicas**:\n",
    "\n",
    "* Help sobre Markdown: https://help.github.com/articles/markdown-basics/\n",
    "* Como utilizar fórmulas matemáticas: https://www.sharelatex.com/learn/Mathematical_expressions\n"
   ]
  },
  {
   "cell_type": "markdown",
   "metadata": {},
   "source": [
    "Na regra do Retangulo:\n",
    "N e o numero de dados e i e o indice de cada retangulo\n",
    "Total de retangulos = N-1\n",
    "Calcula a area de cada retangulo multiplicando di (altura do retangulo) vezes delta (espaçamento entre os dados - largura do retangulo)\n",
    "Soma todas as areas do numero total de retangulos (N-1)"
   ]
  },
  {
   "cell_type": "markdown",
   "metadata": {},
   "source": []
  },
  {
   "cell_type": "markdown",
   "metadata": {},
   "source": [
    "### Dados para teste\n",
    "\n",
    "Vamos utilizar dados gerados a partir de uma função $d(t) = \\cos(t)$ para testar o método de integração. A vantagem do cosseno é que sabemos quanto deve ser a integral:\n",
    "\n",
    "$$\n",
    "\\int\\limits_a^b \\cos(t) dt = \\sin(b) - \\sin(a)\n",
    "$$\n",
    "\n",
    "O código abaixo gera duas listas: uma com os tempos variando entre os limites de integração; outra com os valores correspondentes do cosseno."
   ]
  },
  {
   "cell_type": "code",
   "execution_count": 4,
   "metadata": {
    "collapsed": false
   },
   "outputs": [
    {
     "name": "stdout",
     "output_type": "stream",
     "text": [
      "Espaçamento entre os dados: 0.0320570678937734\n"
     ]
    }
   ],
   "source": [
    "# inicio e fim são os intervalos de integração\n",
    "inicio = 0\n",
    "fim = math.pi/2 # Funções trigonométricas utilizam ângulos em radianos!\n",
    "N = 50\n",
    "# Precisamos saber o intervalo entre cada ponto dos dados\n",
    "# A divisão é por N - 1 pois existem N - 1 intervalos entre N pontos\n",
    "intervalo = (fim - inicio)/(N - 1)\n",
    "print(\"Espaçamento entre os dados:\", intervalo)\n",
    "tempos = []\n",
    "dados = []\n",
    "for i in range(N):\n",
    "    t = inicio + i*intervalo\n",
    "    tempos.append(t)\n",
    "    dados.append(math.cos(t))"
   ]
  },
  {
   "cell_type": "markdown",
   "metadata": {},
   "source": [
    "Utilize a célula abaixo para gerar um gráfico de `dados` por `tempos`."
   ]
  },
  {
   "cell_type": "code",
   "execution_count": 5,
   "metadata": {
    "collapsed": false
   },
   "outputs": [
    {
     "data": {
      "text/plain": [
       "<matplotlib.text.Text at 0x59fbc88>"
      ]
     },
     "execution_count": 5,
     "metadata": {},
     "output_type": "execute_result"
    },
    {
     "data": {
      "image/png": "[encoded data removed]",
      "text/plain": [
       "<matplotlib.figure.Figure at 0x59ff940>"
      ]
     },
     "metadata": {},
     "output_type": "display_data"
    }
   ],
   "source": [
    "plt.figure()\n",
    "plt.plot(tempos, dados, \"-k\")\n",
    "plt.xlabel(\"tempos\")\n",
    "plt.ylabel(\"dados\")"
   ]
  },
  {
   "cell_type": "markdown",
   "metadata": {},
   "source": [
    "### Implementação\n",
    "\n",
    "Implemente a regra dos retângulos para integrar os dados gerados acima. Coloque seu cógido na célula abaixo."
   ]
  },
  {
   "cell_type": "code",
   "execution_count": 6,
   "metadata": {
    "collapsed": false
   },
   "outputs": [
    {
     "name": "stdout",
     "output_type": "stream",
     "text": [
      "1.0159428945132496\n"
     ]
    }
   ],
   "source": [
    "soma = 0\n",
    "for dado in dados:\n",
    "    soma=soma+dado\n",
    "rescalc = soma*intervalo\n",
    "print(rescalc)"
   ]
  },
  {
   "cell_type": "markdown",
   "metadata": {},
   "source": [
    "Nas células abaixo calcule e imprima:\n",
    "\n",
    "1. A solução analítica (verdadeira) para a integral\n",
    "2. O erro cometido $E = \\left|res_{true} - res_{calc}\\right|$\n",
    "\n",
    "Dica: a função `abs` calcula o valor absoluto de um número."
   ]
  },
  {
   "cell_type": "code",
   "execution_count": 7,
   "metadata": {
    "collapsed": false
   },
   "outputs": [
    {
     "name": "stdout",
     "output_type": "stream",
     "text": [
      "1.0\n"
     ]
    }
   ],
   "source": [
    "restrue = math.sin(fim) - math.sin(inicio)\n",
    "print(restrue)"
   ]
  },
  {
   "cell_type": "code",
   "execution_count": 8,
   "metadata": {
    "collapsed": false
   },
   "outputs": [
    {
     "name": "stdout",
     "output_type": "stream",
     "text": [
      "0.015942894513249595\n"
     ]
    }
   ],
   "source": [
    "erro = abs(restrue - rescalc)\n",
    "print(erro)"
   ]
  },
  {
   "cell_type": "markdown",
   "metadata": {},
   "source": [
    "**Responda na célula abaixo:** Por que o erro não é zero e quais são os fatores que influenciam o erro?"
   ]
  },
  {
   "cell_type": "markdown",
   "metadata": {},
   "source": [
    "O erro existe devido a uma falha no calculo da curva, na qual \"sobram\" partes do retangulo para fora e ficam espaços vazios dentro, sendo um resultado não preciso. "
   ]
  },
  {
   "cell_type": "markdown",
   "metadata": {},
   "source": []
  },
  {
   "cell_type": "markdown",
   "metadata": {},
   "source": [
    "### Resultado esperado\n",
    "\n",
    "No caso acima estamos integrando o cosseno de 0 a $\\pi/2$, então o valor esperado da integral é 1. Seu resultado não será exatamente 1 mas deve estar entre 0.9 e 1.1."
   ]
  },
  {
   "cell_type": "markdown",
   "metadata": {},
   "source": [
    "## Regra dos trapézios\n",
    "\n",
    "A regra dos trapézios é parecida com a regra dos retângulos. Mas utilizaremos a área de um trapézio ao invés da área de um retângulo. O trapézio será definido com base em dois pontos adjacentes nos dados ($d_i$ e $d_{i+1}$, por exemplo).\n",
    "\n",
    "$$\n",
    "A = \\sum\\limits_{i=1}^{N - 1} \\Delta \\frac{d_i + d_{i+1}}{2}\n",
    "$$"
   ]
  },
  {
   "cell_type": "markdown",
   "metadata": {},
   "source": [
    "### Algoritmo\n",
    "\n",
    "Descreva abaixo o algoritmo utilizado (em português) para fazer a integração numérica utilizando a regra dos trapézios."
   ]
  },
  {
   "cell_type": "markdown",
   "metadata": {},
   "source": []
  },
  {
   "cell_type": "markdown",
   "metadata": {},
   "source": [
    "### Implementação\n",
    "\n",
    "Vamos utilizar os mesmo dados utilizados na regra dos retângulos (na dúvida, rode novamente a célula que gera os dados). Abaixo, escreva e rode o código que faz a integração numérica com a regra dos trapézios. "
   ]
  },
  {
   "cell_type": "code",
   "execution_count": 9,
   "metadata": {
    "collapsed": false
   },
   "outputs": [
    {
     "name": "stdout",
     "output_type": "stream",
     "text": [
      "Intervalo de Dados: 0.0320570678937734\n",
      "Tempo: [0.0, 0.0320570678937734, 0.0641141357875468, 0.09617120368132019, 0.1282282715750936, 0.16028533946886697, 0.19234240736264038, 0.2243994752564138, 0.2564565431501872, 0.28851361104396056, 0.32057067893773394, 0.3526277468315074, 0.38468481472528077, 0.41674188261905415, 0.4487989505128276, 0.48085601840660097, 0.5129130863003744, 0.5449701541941477, 0.5770272220879211, 0.6090842899816945, 0.6411413578754679, 0.6731984257692414, 0.7052554936630148, 0.7373125615567881, 0.7693696294505615, 0.8014266973443349, 0.8334837652381083, 0.8655408331318817, 0.8975979010256552, 0.9296549689194286, 0.9617120368132019, 0.9937691047069753, 1.0258261726007487, 1.0578832404945222, 1.0899403083882955, 1.121997376282069, 1.1540544441758422, 1.1861115120696157, 1.218168579963389, 1.2502256478571625, 1.2822827157509358, 1.3143397836447093, 1.3463968515384828, 1.378453919432256, 1.4105109873260295, 1.4425680552198028, 1.4746251231135763, 1.5066821910073496, 1.538739258901123, 1.5707963267948966]\n",
      "Dados: [1.0, 0.9994862162006879, 0.9979453927503363, 0.9953791129491982, 0.9917900138232462, 0.9871817834144502, 0.9815591569910653, 0.9749279121818236, 0.9672948630390295, 0.9586678530366606, 0.9490557470106686, 0.9384684220497604, 0.9269167573460217, 0.9144126230158125, 0.9009688679024191, 0.8865993063730001, 0.8713187041233894, 0.8551427630053462, 0.8380881048918407, 0.820172254596956, 0.8014136218679567, 0.7818314824680298, 0.7614459583691344, 0.7402779970753156, 0.7183493500977276, 0.6956825506034865, 0.6723008902613169, 0.6482283953077885, 0.6234898018587336, 0.598110530491216, 0.5721166601221697, 0.5455349012105487, 0.5183925683105252, 0.4907175520039379, 0.4625382902408354, 0.4338837391175582, 0.404783343122394, 0.3752670048793742, 0.3453650544213078, 0.31510821802362077, 0.28452758663103267, 0.2536545839095075, 0.22252093395631445, 0.19115862870137248, 0.15959989503337932, 0.12787716168450622, 0.09602302590768189, 0.06407021998071318, 0.03205157757165533, 6.123233995736766e-17]\n",
      "Listas das áreas dos trapézios parciais das integrais: [0.03204883269270476, 0.03201590035065601, 0.03195006950676614, 0.03185140780667732, 0.0317200166319558, 0.03155603099591545, 0.031359619404882515, 0.031130983685043936, 0.030870358775057307, 0.03057801248463552, 0.030254245219354197, 0.029899389671964628, 0.02951381048052951, 0.029097903853732666, 0.028652097163747836, 0.02817684850708491, 0.027672646233864756, 0.027140008446006485, 0.02657948246484272, 0.025991644268709875, 0.025377097901091532, 0.024736474849922918, 0.024070433398694333, 0.02337965795002041, 0.02266485832237013, 0.021926769020680376, 0.021166148481602445, 0.02038377829415715, 0.01958046239659924, 0.018757026250316503, 0.0179143159916124, 0.017053197562243796, 0.016174555819607292, 0.01527929362748842, 0.014368330928308075, 0.013442603797819494, 0.012503063483227125, 0.011550675425715851, 0.010586418268394885, 0.009611282850675834, 0.008626271190118214, 0.007632395452788681, 0.006630676913191978, 0.005622144904842333, 0.004607835762553701, 0.003588791757535687, 0.00256606002638942, 0.0015406914951039093, 0.0005137397991585508]\n",
      "Valor da Integral: 0.9999143605663631\n"
     ]
    },
    {
     "data": {
      "image/png": "[encoded data removed]",
      "text/plain": [
       "<matplotlib.figure.Figure at 0x75ac908>"
      ]
     },
     "metadata": {},
     "output_type": "display_data"
    }
   ],
   "source": [
    "#Primeiramente precisaremos utilizar a biblioteca de matemática no Python, para isso devemos importar essa biblioteca:\n",
    "\n",
    "import math\n",
    "\n",
    "# inicio e fim são os intervalos de integração no eixo x\n",
    "inicio = 0\n",
    "fim = math.pi/2 # Funções trigonométricas utilizam ângulos em radianos!\n",
    "\n",
    "#Dividimos o valor total de Dados por N, com isso encontramos o intervalo entre os pontos destacados de Dados. \n",
    "#Nesse Caso iremos definir N=50, mas poderíamos trabalhar com qualquer número.\n",
    "N=50\n",
    "#Lembre-se quanto maior o valor de N, mais próximo iremos chegar do valor real. \n",
    "#Também podemos afirmar que este é o módulo da base do trapézio. \n",
    "intervalo = (fim - inicio)/(N - 1)\n",
    "#A divisão é por N - 1 pois existem N - 1 intervalos entre N pontos\n",
    "print('Intervalo de Dados:', intervalo)\n",
    "\n",
    "#Após obtermos o espaçamento, podemos encontrar onde se encontra cada valor dos pontos de Dados:\n",
    "dados = []\n",
    "tempos = []\n",
    "for i in range(N): # i será cada valor de N, ou seja 0,1,2,...,n \n",
    "    t = inicio + i*intervalo # t será os valores que encontraremos em dados nos pontos que N intercepta.\n",
    "    tempos.append(t) #Aqui definimos que tempos será o conjunto de todos os valores de t encontrados em Dados.\n",
    "    dados.append(math.cos(t)) #Aqui definimos que dados será nosso conjunto de todos os valores do eixo y no ponto t.\n",
    "\n",
    "print('Tempo:',tempos)\n",
    "print('Dados:',dados)\n",
    "\n",
    "#Agora que temos todos os intervalos, podemos calcular a Área da Integral. \n",
    "#Vamos Encontrar a área de cada um dos 49 trapézios que definimos anteriormente. \n",
    "\n",
    "areas_dos_trapezios = []\n",
    "j=0\n",
    "for j in range(N-1):\n",
    "    pontos = dados[j] + dados[j+1]\n",
    "    area_trapezio = (intervalo*pontos)/2\n",
    "    areas_dos_trapezios.append(area_trapezio)\n",
    "print('Listas das áreas dos trapézios parciais das integrais:',areas_dos_trapezios)\n",
    "\n",
    "integral = 0\n",
    "for elemento in areas_dos_trapezios:\n",
    "    integral = integral + elemento\n",
    "print('Valor da Integral:',integral)\n",
    "\n",
    "\n",
    "import matplotlib.pyplot as plt\n",
    "%matplotlib inline \n",
    "plt.figure()\n",
    "plt.plot(tempos,dados,'-k')\n",
    "plt.xlabel('dados')\n",
    "plt.ylabel('tempos')\n",
    "plt.show()"
   ]
  },
  {
   "cell_type": "markdown",
   "metadata": {},
   "source": [
    "Calcule e imprima também a solução analíca e o erro cometido."
   ]
  },
  {
   "cell_type": "code",
   "execution_count": 10,
   "metadata": {
    "collapsed": false
   },
   "outputs": [
    {
     "name": "stdout",
     "output_type": "stream",
     "text": [
      "Solução Analítica da Integração: 1.0\n",
      "Variável de Erro: 8.563943363693038e-05\n"
     ]
    }
   ],
   "source": [
    "valor = math.sin(fim) - math.sin(inicio)\n",
    "print('Solução Analítica da Integração:', valor)\n",
    "\n",
    "\n",
    "erro = abs(valor - integral)\n",
    "print('Variável de Erro:',erro)\n"
   ]
  },
  {
   "cell_type": "markdown",
   "metadata": {},
   "source": [
    "**Responda na célula abaixo:** O erro é maior ou menos que para a regra dos retângulos? Por que? Você esperava isso?"
   ]
  },
  {
   "cell_type": "markdown",
   "metadata": {},
   "source": []
  },
  {
   "cell_type": "markdown",
   "metadata": {},
   "source": [
    "### Resultado esperado\n",
    "\n",
    "Novamente, o valos esperado é 1 mas seu resultado não será exatamente 1 (mas deve estar entre 0.9 e 1.1)."
   ]
  },
  {
   "cell_type": "markdown",
   "metadata": {},
   "source": [
    "## Comparação dos dois métodos\n",
    "\n",
    "Vamos comparar o erro de ambos métodos. Uma comparação muito utilizada em métodos numéricos em geral é como o erro varia com o número de dados (ou pontos) utilizados.\n",
    "\n",
    "Nas células abaixo, calcule o erro da integração numérica para diferentes valores de `N`. Os valores de N deverão variar de 10 a 1000 de 10 em 10. Mantenha os intervalos de integração entre $0$ e $\\pi/2$. Faça esse cálculo para os dois métodos: retângulos e trapézios.\n",
    "\n",
    "Ao final, faça um gráfico do erro pelos valores de `N`. O gráfico deverá ter duas curvas, uma para cada método. O eixo y (erros) deverá estar em escala logarítmica.\n",
    "\n",
    "**Dicas**: \n",
    "\n",
    "* Gere uma lista dos valores de `N`.\n",
    "* Para colocar o eixo y em escala log: `plt.yscale('log')`"
   ]
  },
  {
   "cell_type": "code",
   "execution_count": 12,
   "metadata": {
    "collapsed": false
   },
   "outputs": [
    {
     "data": {
      "text/plain": [
       "<matplotlib.legend.Legend at 0x8b68160>"
      ]
     },
     "execution_count": 12,
     "metadata": {},
     "output_type": "execute_result"
    },
    {
     "data": {
      "image/png": "[encoded data removed]",
      "text/plain": [
       "<matplotlib.figure.Figure at 0x8b1a198>"
      ]
     },
     "metadata": {},
     "output_type": "display_data"
    }
   ],
   "source": [
    "# inicio e fim são os nomes para os intervalos de integração\n",
    "inicio = 0\n",
    "fim = math.pi/2 # Utilizamos angulos em radianos em funções trigonométricas\n",
    "N = range(10, 1000, 10)\n",
    "# Precisamos saber o intervalo entre cada ponto dos dados\n",
    "# A divisão é feita por N - 1 pois existem N - 1 intervalos dentro de N pontos\n",
    "in_anal = math.sin(math.pi/2) - math.sin(0) #a variavel de integracao analitica foi criada. Para isso, subtraímos o seno de 0 do seno de pi sobre dois.\n",
    "lista_erro_ret = []\n",
    "lista_erro_trap = []\n",
    "\n",
    "for N in range(10,1000,10): #faz com que os calculos de erro sejam feitos varias vezes, um para cada N.\n",
    "    intervalo = (fim - inicio)/(N - 1)\n",
    "    tempos = []\n",
    "    dados = []\n",
    "    for i in range(N):\n",
    "        t = inicio + i*intervalo\n",
    "        tempos.append(t)\n",
    "        dados.append(math.cos(t))\n",
    "        \n",
    "    #Calculando o somatorio por retangulos\n",
    "    integral = 0 \n",
    "    for x in range(N): # x serve para indicar a posicao de cada dado, utilizando todos os dados\n",
    "        retangulo = intervalo*dados[x] # cada retangulo e determinado pela multiplicacao entre tempos e dados na mesma posicao\n",
    "        integral = integral+retangulo # a integral considera o somatorio dos retangulos\n",
    "    \n",
    "    erro = in_anal - integral #serve para calcular o erro para cada elemento\n",
    "    if erro < 0:\n",
    "        erro = erro*(-1) #criamos uma condicao para representar o modulo, para que todo valor negativo se torne positivo.\n",
    "    lista_erro_ret.append(erro) #adicionamos o erro encontrado a lista de erros do retangulo\n",
    "    \n",
    "    #calculando o  somatorio por trapezios\n",
    "    \n",
    "    integral_trap = 0 \n",
    "    for y in range(N-1): # y serve para indicar a posicao de cada dado, utilizando todos os dados\n",
    "        trapezio = intervalo*((dados[y]+dados[y+1])/2)\n",
    "        #determinaremos cada trapezio pela soma dos dois proximos espacamentos dividido por dois e depois multiplicando esse resultado pela altura equivalente\n",
    "        integral_trap = integral_trap+trapezio # a integral considera o somatorio dos trapezios\n",
    "        \n",
    "    erro_trap = in_anal - integral_trap #serve para calcularmos o erro para cada elemento\n",
    "    if erro_trap < 0:\n",
    "        erro_trap = erro_trap*(-1) # outra vez criamos uma condicao para representar o modulo,para que todo valor negativo se torne positivo. \n",
    "    lista_erro_trap.append(erro_trap) #adicionamos o erro encontrado a lista de erros do trapezio\n",
    "\n",
    "plt.figure() #serve para criar uma figura em branco\n",
    "plt.plot(range(10,1000,10), lista_erro_ret, 'b', label='Retângulos')\n",
    "plt.plot(range(10,1000,10), lista_erro_trap, 'r', label='Trapézios') #serve para preencher a figura com os dados que foram organizados\n",
    "plt.title(\"Erro de integração numérica\") #título\n",
    "plt.yscale('log')\n",
    "plt.xlabel(u\"Número de dados\") #para nomear o eixo X\n",
    "plt.ylabel(\"Erro\") #para nomear o eixo Y\n",
    "plt.legend(loc='upper right')"
   ]
  },
  {
   "cell_type": "code",
   "execution_count": null,
   "metadata": {
    "collapsed": true
   },
   "outputs": [],
   "source": []
  },
  {
   "cell_type": "markdown",
   "metadata": {},
   "source": [
    "**Responda na célula abaixo**: Como o erro varia com `N` para os dois métodos? Aumentar o número de dados de 50 para 200 nos dá a mesma diminuição no erro que aumentar de 650 para 800? Sempre vale a pena utilizar mais dados (lembre-se que a escala é logarítmica)? "
   ]
  },
  {
   "cell_type": "markdown",
   "metadata": {},
   "source": [
    "O erro dos trapézios vai diminuindo conforme o numero de dados vai aumentando. A diminuição do erro em aumentar o numero de dados de 50 para 200 é mais significativa, porque a curva sofre menos alterações a partir de aproximadamente 500 dados. Acredito que é sempre válido acrescentar dados novos, mas que a partir de um certo momento, eles já não são tão relevantes."
   ]
  },
  {
   "cell_type": "markdown",
   "metadata": {},
   "source": [
    "### Resultado esperado\n",
    "\n",
    "O gráfico ao final deverá ser parecido com:\n",
    "\n",
    "![images/erro-por-ndados.png](images/erro-por-ndados.png)"
   ]
  },
  {
   "cell_type": "markdown",
   "metadata": {},
   "source": [
    "## Tarefa bônus: Probabilidades\n",
    "\n",
    "Vamos assumir que uma variável aleatória $x$ segue uma [distribuição normal](https://en.wikipedia.org/wiki/Normal_distribution) com média zero e desvio padrão $\\sigma$. Isso quer dizer que a [densidade de probabilidade](https://en.wikipedia.org/wiki/Probability_density_function) para $x$ é\n",
    "\n",
    "$$\n",
    "f(x) = \\frac{1}{\\sigma\\sqrt{2\\pi}} \\exp \\left( -\\frac{x^2}{2 \\sigma^2} \\right)\n",
    "$$\n",
    "\n",
    "A probabilidade de $x$ cair no intervalo $[a, b]$ é dada por ([refência](https://en.wikipedia.org/wiki/Probability_distribution#Continuous_probability_distribution)):\n",
    "\n",
    "$$\n",
    "P(a \\leq x \\leq b) = \\int\\limits_a^b f(x) dx\n",
    "$$\n",
    "\n",
    "Calcule na célula abaixo qual é a probabilidade de $x$ estar entre $[-\\sigma, +\\sigma]$ para $\\sigma = 5$."
   ]
  },
  {
   "cell_type": "code",
   "execution_count": 13,
   "metadata": {
    "collapsed": false
   },
   "outputs": [
    {
     "ename": "SyntaxError",
     "evalue": "invalid syntax (<ipython-input-13-781e78eb2355>, line 1)",
     "output_type": "error",
     "traceback": [
      "\u001b[1;36m  File \u001b[1;32m\"<ipython-input-13-781e78eb2355>\"\u001b[1;36m, line \u001b[1;32m1\u001b[0m\n\u001b[1;33m    \"execution_count\": 120,\u001b[0m\n\u001b[1;37m                     ^\u001b[0m\n\u001b[1;31mSyntaxError\u001b[0m\u001b[1;31m:\u001b[0m invalid syntax\n"
     ]
    }
   ],
   "source": []
  },
  {
   "cell_type": "code",
   "execution_count": null,
   "metadata": {
    "collapsed": true
   },
   "outputs": [],
   "source": []
  }
 ],
 "metadata": {
  "kernelspec": {
   "display_name": "Python 3",
   "language": "python",
   "name": "python3"
  },
  "language_info": {
   "codemirror_mode": {
    "name": "ipython",
    "version": 3
   },
   "file_extension": ".py",
   "mimetype": "text/x-python",
   "name": "python",
   "nbconvert_exporter": "python",
   "pygments_lexer": "ipython3",
   "version": "3.4.3"
  }
 },
 "nbformat": 4,
 "nbformat_minor": 0
}
